{
  "nbformat": 4,
  "nbformat_minor": 0,
  "metadata": {
    "colab": {
      "name": "Advanced Deep Learning with Keras.ipynb",
      "provenance": [],
      "collapsed_sections": []
    },
    "kernelspec": {
      "name": "python3",
      "display_name": "Python 3"
    }
  },
  "cells": [
    {
      "cell_type": "markdown",
      "metadata": {
        "id": "6zu2isPZlBlv"
      },
      "source": [
        "# Advanced Deep Learning with Keras\r\n",
        "---\r\n",
        "\r\n",
        "\r\n",
        "\r\n",
        "\r\n",
        "\r\n",
        "\r\n"
      ]
    },
    {
      "cell_type": "markdown",
      "metadata": {
        "id": "1_OLCWn_jFhZ"
      },
      "source": [
        "# Course Description\r\n",
        "\r\n",
        "This course shows you how to solve a variety of problems using the versatile Keras functional API. You will start with simple, multi-layer dense networks (also known as multi-layer perceptrons), and continue on to more complicated architectures. The course will cover how to build models with multiple inputs and a single output, as well as how to share weights between layers in a model. We will also cover advanced topics such as category embeddings and multiple-output networks. If you've ever wanted to train a network that does both classification and regression, then this course is for you!"
      ]
    },
    {
      "cell_type": "markdown",
      "metadata": {
        "id": "gLkrYAedjgVt"
      },
      "source": [
        "# 1. The Keras Functional API\r\n",
        "\r\n",
        "In this chapter, you'll become familiar with the basics of the Keras functional API. You'll build a simple functional network using functional building blocks, fit it to data, and make predictions."
      ]
    },
    {
      "cell_type": "markdown",
      "metadata": {
        "id": "YTwhbrFRnuym"
      },
      "source": [
        "### Keras input and dense layers (Video)\r\n",
        "\r\n",
        "Transcript:\r\n",
        "\r\n",
        "1. Keras input and dense layers\r\n",
        "Hi! I'm Zach Deane-Mayer, and in this course, I'll be teaching you advanced deep learning concepts using the keras functional API. You will learn how to build functional keras models, including advanced topics such as shared layers, categorical embeddings, multiple inputs, and multiple outputs. The keras functional API is extremely simple, yet immensely powerful. By the end of this class, you will build a model that is capable of solving a regression and a classification problem at the same time.\r\n",
        "\r\n",
        "2. Course outline\r\n",
        "Chapter 1 is a refresher on building simple models, where you will learn to use the keras functional API. In chapter 2, you will build a keras model with 2 inputs. In chapter 3, you will learn how to generalize your 2-input model to 3 or more inputs. And finally, in chapter 4, you will build models with multiple outputs that can solve multiple problems.\r\n",
        "\r\n",
        "3. Course Datasets: College basketball data, 1989-2017\r\n",
        "You will be using two datasets of college basketball games from American colleges. The first dataset is from the regular season and has the following data: the IDs of the 2 teams that played, whether the first team was home or away, whether the first team won or lost the game, and by how many points the first team won or lost. For the tournament dataset, you also have the tournament \"seed\", which is a pre-tournament ranking for each team. These seeds range from 1 to 16, where the best 4 teams get a seed of 1, and the worst 4 teams get a seed of 16. You will use the difference in the two team's seeds as an input to your model.\r\n",
        "\r\n",
        "4. Course Datasets: College basketball data, 1989-2017\r\n",
        "Here are the first five rows of both the datasets. You can see that the team variables are encoded as integers, and the tournament dataset has one additional column: the difference between the tournament seeds for both teams. Other than the seed difference, the two datasets have identical columns. Within a given year, a team's roster stays relatively constant, but between years it can change a lot, as seniors graduate, and freshmen start. Therefore, for every year, each school is given a unique integer ID.\r\n",
        "\r\n",
        "5. Inputs and outputs\r\n",
        "Keras models at their simplest, are fundamentally composed of 2 parts: an input layer and an output layer.\r\n",
        "\r\n",
        "6. Inputs\r\n",
        "To start, I'll define a very simple keras model, which only expects a single input. I specify this using the Input() function from the keras.layers module. The number of columns in the input is specified using the shape parameter. This tells the model how much data to expect. Note that the shape argument expects a tuple.\r\n",
        "\r\n",
        "7. Inputs\r\n",
        "The Input function returns a \"tensor.\" If you print this tensor, you'll see that it is a tf.Tensor object, which indicates it is ready to be used by our model as input.\r\n",
        "\r\n",
        "8. Outputs\r\n",
        "Now that we've defined our input layer, let's define the output layer. Outputs in keras are most commonly a single dense layer, which specifies the shape of the expected output. In this case, we are expecting our model to predict a single value, so we pass one unit to the dense layer.\r\n",
        "\r\n",
        "9. Outputs\r\n",
        "If you print the output layer, the result is NOT a tensorflow tensor. It is a function, which takes a tensor as input and produces a tensor as output. The difference between layers and tensors is key to understanding the keras functional API. Layers are used to construct a deep learning model, and tensors are used to define the data flow through the model.\r\n",
        "\r\n",
        "10. Connecting inputs to outputs\r\n",
        "In this case, the input layer defines a tensor, which we pass to the output_layer() function.\r\n",
        "\r\n",
        "11. Connecting inputs to outputs\r\n",
        "The final output of our model is a tensor.\r\n",
        "\r\n",
        "12. Let's practice!\r\n",
        "It's time for you to build some layers!\r\n",
        "\r\n",
        "Note: PDF available in the same folder chapter1\r\n"
      ]
    },
    {
      "cell_type": "markdown",
      "metadata": {
        "id": "Fb_-cDZypjue"
      },
      "source": [
        "### Input layers\r\n",
        "\r\n",
        "The first step in creating a neural network model is to define the Input layer. This layer takes in raw data, usually in the form of numpy arrays. The shape of the Input layer defines how many variables your neural network will use. For example, if the input data has 10 columns, you define an Input layer with a shape of (10,).\r\n",
        "\r\n",
        "In this case, you are only using one input in your network.\r\n",
        "\r\n",
        "This course touches on a lot of concepts you may have forgotten, so if you ever need a quick refresher, download the [Keras Cheat Sheet](https://datacamp-community-prod.s3.amazonaws.com/94fc681d-5422-40cb-a129-2218e9522f17) and keep it handy!\r\n",
        "\r\n",
        "```\r\n",
        "# Import Input from keras.layers\r\n",
        "from keras.layers import Input\r\n",
        "# Create an input layer of shape 1\r\n",
        "input_tensor = Input(shape=(1,))\r\n",
        "```\r\n",
        "*Great! Remember that the input layer allows your model to load data.*"
      ]
    },
    {
      "cell_type": "markdown",
      "metadata": {
        "id": "DksQueaiq0qX"
      },
      "source": [
        "### Dense layers\r\n",
        "\r\n",
        "Once you have an Input layer, the next step is to add a Dense layer.\r\n",
        "\r\n",
        "Dense layers learn a weight matrix, where the first dimension of the matrix is the dimension of the input data, and the second dimension is the dimension of the output data. Recall that your Input layer has a shape of 1. In this case, your output layer will also have a shape of 1. This means that the Dense layer will learn a 1x1 weight matrix.\r\n",
        "\r\n",
        "In this exercise, you will add a dense layer to your model, after the input layer.\r\n",
        "\r\n",
        "```\r\n",
        "# Load layers\r\n",
        "from keras.layers import Input, Dense\r\n",
        "\r\n",
        "# Input layer\r\n",
        "input_tensor = Input(shape=(1,))\r\n",
        "\r\n",
        "# Dense layer\r\n",
        "output_layer = Dense(1)\r\n",
        "\r\n",
        "# Connect the dense layer to the input_tensor\r\n",
        "output_tensor = output_layer(input_tensor)\r\n",
        "```\r\n",
        "*Nice job! This network will take the input, apply a linear coefficient to it, and return the result.*"
      ]
    },
    {
      "cell_type": "markdown",
      "metadata": {
        "id": "bRgA-lYfrctD"
      },
      "source": [
        "# Output layers\r\n",
        "\r\n",
        "Output layers are simply Dense layers! Output layers are used to reduce the dimension of the inputs to the dimension of the outputs. You'll learn more about output dimensions in chapter 4, but for now, you'll always use a single output in your neural networks, which is equivalent to Dense(1) or a dense layer with a single unit.\r\n",
        "\r\n",
        "```\r\n",
        "# Load layers\r\n",
        "from keras.layers import Input, Dense\r\n",
        "\r\n",
        "# Input layer\r\n",
        "input_tensor = Input(shape=(1,))\r\n",
        "\r\n",
        "# Create a dense layer and connect the dense layer to the input_tensor in one step\r\n",
        "# Note that we did this in 2 steps in the previous exercise, but are doing it in one step now\r\n",
        "output_tensor = Dense(1)(input_tensor)\r\n",
        "```\r\n",
        "*The output layer allows your model to make predictions.*"
      ]
    },
    {
      "cell_type": "markdown",
      "metadata": {
        "id": "ZoJQ8enfsMJX"
      },
      "source": [
        "### Build and compile a model (Video)\r\n",
        "\r\n",
        "Transcript:\r\n",
        "\r\n",
        "1. Keras input and dense layers\r\n",
        "Hi! I'm Zach Deane-Mayer, and in this course, I'll be teaching you advanced deep learning concepts using the keras functional API. You will learn how to build functional keras models, including advanced topics such as shared layers, categorical embeddings, multiple inputs, and multiple outputs. The keras functional API is extremely simple, yet immensely powerful. By the end of this class, you will build a model that is capable of solving a regression and a classification problem at the same time.\r\n",
        "\r\n",
        "2. Course outline\r\n",
        "Chapter 1 is a refresher on building simple models, where you will learn to use the keras functional API. In chapter 2, you will build a keras model with 2 inputs. In chapter 3, you will learn how to generalize your 2-input model to 3 or more inputs. And finally, in chapter 4, you will build models with multiple outputs that can solve multiple problems.\r\n",
        "\r\n",
        "3. Course Datasets: College basketball data, 1989-2017\r\n",
        "You will be using two datasets of college basketball games from American colleges. The first dataset is from the regular season and has the following data: the IDs of the 2 teams that played, whether the first team was home or away, whether the first team won or lost the game, and by how many points the first team won or lost. For the tournament dataset, you also have the tournament \"seed\", which is a pre-tournament ranking for each team. These seeds range from 1 to 16, where the best 4 teams get a seed of 1, and the worst 4 teams get a seed of 16. You will use the difference in the two team's seeds as an input to your model.\r\n",
        "\r\n",
        "4. Course Datasets: College basketball data, 1989-2017\r\n",
        "Here are the first five rows of both the datasets. You can see that the team variables are encoded as integers, and the tournament dataset has one additional column: the difference between the tournament seeds for both teams. Other than the seed difference, the two datasets have identical columns. Within a given year, a team's roster stays relatively constant, but between years it can change a lot, as seniors graduate, and freshmen start. Therefore, for every year, each school is given a unique integer ID.\r\n",
        "\r\n",
        "5. Inputs and outputs\r\n",
        "Keras models at their simplest, are fundamentally composed of 2 parts: an input layer and an output layer.\r\n",
        "\r\n",
        "6. Inputs\r\n",
        "To start, I'll define a very simple keras model, which only expects a single input. I specify this using the Input() function from the keras.layers module. The number of columns in the input is specified using the shape parameter. This tells the model how much data to expect. Note that the shape argument expects a tuple.\r\n",
        "\r\n",
        "7. Inputs\r\n",
        "The Input function returns a \"tensor.\" If you print this tensor, you'll see that it is a tf.Tensor object, which indicates it is ready to be used by our model as input.\r\n",
        "\r\n",
        "8. Outputs\r\n",
        "Now that we've defined our input layer, let's define the output layer. Outputs in keras are most commonly a single dense layer, which specifies the shape of the expected output. In this case, we are expecting our model to predict a single value, so we pass one unit to the dense layer.\r\n",
        "\r\n",
        "9. Outputs\r\n",
        "If you print the output layer, the result is NOT a tensorflow tensor. It is a function, which takes a tensor as input and produces a tensor as output. The difference between layers and tensors is key to understanding the keras functional API. Layers are used to construct a deep learning model, and tensors are used to define the data flow through the model.\r\n",
        "\r\n",
        "10. Connecting inputs to outputs\r\n",
        "In this case, the input layer defines a tensor, which we pass to the output_layer() function.\r\n",
        "\r\n",
        "11. Connecting inputs to outputs\r\n",
        "The final output of our model is a tensor.\r\n",
        "\r\n",
        "12. Let's practice!\r\n",
        "It's time for you to build some layers!\r\n",
        "\r\n",
        "Note: PDF available in the same folder - chapter1-1\r\n"
      ]
    },
    {
      "cell_type": "markdown",
      "metadata": {
        "id": "rIz290xAsnhN"
      },
      "source": [
        "### Build a model\r\n",
        "\r\n",
        "Once you've defined an input layer and an output layer, you can build a Keras model. The model object is how you tell Keras where the model starts and stops: where data comes in and where predictions come out.\r\n",
        "\r\n",
        "```\r\n",
        "# Input/dense/output layers\r\n",
        "from keras.layers import Input, Dense\r\n",
        "input_tensor = Input(shape=(1,))\r\n",
        "output_tensor = Dense(1)(input_tensor)\r\n",
        "\r\n",
        "# Build the model\r\n",
        "from keras.models import Model\r\n",
        "model = Model(input_tensor, output_tensor)\r\n",
        "```\r\n",
        "*This model is a complete neural network, ready to learn from data and make prediction.*"
      ]
    },
    {
      "cell_type": "markdown",
      "metadata": {
        "id": "aOi-u7RJuTvc"
      },
      "source": [
        "### Compile a model\r\n",
        "\r\n",
        "The final step in creating a model is compiling it. Now that you've created a model, you have to compile it before you can fit it to data. This finalizes your model, freezes all its settings, and prepares it to meet some data!\r\n",
        "\r\n",
        "During compilation, you specify the optimizer to use for fitting the model to the data, and a loss function. 'adam' is a good default optimizer to use, and will generally work well. Loss function depends on the problem at hand. Mean squared error is a common loss function and will optimize for predicting the mean, as is done in least squares regression.\r\n",
        "\r\n",
        "Mean absolute error optimizes for the median and is used in quantile regression. For this dataset, 'mean_absolute_error' works pretty well, so use it as your loss function.\r\n",
        "\r\n",
        "```\r\n",
        "# Compile the model\r\n",
        "model.compile(optimizer='adam', loss='mean_absolute_error')\r\n",
        "```\r\n",
        "*Compiling a model is the final step before fitting it.*"
      ]
    },
    {
      "cell_type": "markdown",
      "metadata": {
        "id": "k-_cg-_hvlpD"
      },
      "source": [
        "### Visualize a model\r\n",
        "\r\n",
        "Now that you've compiled the model, take a look a the result of your hard work! You can do this by looking at the model summary, as well as its plot.\r\n",
        "\r\n",
        "The summary will tell you the names of the layers, as well as how many units they have and how many parameters are in the model.\r\n",
        "\r\n",
        "The plot will show how the layers connect to each other.\r\n",
        "\r\n",
        "```\r\n",
        "# Import the plotting function\r\n",
        "from keras.utils import plot_model\r\n",
        "import matplotlib.pyplot as plt\r\n",
        "\r\n",
        "# Summarize the model\r\n",
        "model.summary()\r\n",
        "\r\n",
        "# Plot the model\r\n",
        "plot_model(model, to_file='model.png')\r\n",
        "\r\n",
        "# Display the image\r\n",
        "data = plt.imread('model.png')\r\n",
        "plt.imshow(data)\r\n",
        "plt.show()\r\n",
        "```\r\n",
        "*It turns out neural networks aren't really black boxes after all!*"
      ]
    },
    {
      "cell_type": "markdown",
      "metadata": {
        "id": "ua9zK_9jwaKJ"
      },
      "source": [
        "### Fit and evaluate a model (Video)\r\n",
        "\r\n",
        "Transcript:\r\n",
        "\r\n",
        "1. Keras input and dense layers\r\n",
        "Hi! I'm Zach Deane-Mayer, and in this course, I'll be teaching you advanced deep learning concepts using the keras functional API. You will learn how to build functional keras models, including advanced topics such as shared layers, categorical embeddings, multiple inputs, and multiple outputs. The keras functional API is extremely simple, yet immensely powerful. By the end of this class, you will build a model that is capable of solving a regression and a classification problem at the same time.\r\n",
        "\r\n",
        "2. Course outline\r\n",
        "Chapter 1 is a refresher on building simple models, where you will learn to use the keras functional API. In chapter 2, you will build a keras model with 2 inputs. In chapter 3, you will learn how to generalize your 2-input model to 3 or more inputs. And finally, in chapter 4, you will build models with multiple outputs that can solve multiple problems.\r\n",
        "\r\n",
        "3. Course Datasets: College basketball data, 1989-2017\r\n",
        "You will be using two datasets of college basketball games from American colleges. The first dataset is from the regular season and has the following data: the IDs of the 2 teams that played, whether the first team was home or away, whether the first team won or lost the game, and by how many points the first team won or lost. For the tournament dataset, you also have the tournament \"seed\", which is a pre-tournament ranking for each team. These seeds range from 1 to 16, where the best 4 teams get a seed of 1, and the worst 4 teams get a seed of 16. You will use the difference in the two team's seeds as an input to your model.\r\n",
        "\r\n",
        "4. Course Datasets: College basketball data, 1989-2017\r\n",
        "Here are the first five rows of both the datasets. You can see that the team variables are encoded as integers, and the tournament dataset has one additional column: the difference between the tournament seeds for both teams. Other than the seed difference, the two datasets have identical columns. Within a given year, a team's roster stays relatively constant, but between years it can change a lot, as seniors graduate, and freshmen start. Therefore, for every year, each school is given a unique integer ID.\r\n",
        "\r\n",
        "5. Inputs and outputs\r\n",
        "Keras models at their simplest, are fundamentally composed of 2 parts: an input layer and an output layer.\r\n",
        "\r\n",
        "6. Inputs\r\n",
        "To start, I'll define a very simple keras model, which only expects a single input. I specify this using the Input() function from the keras.layers module. The number of columns in the input is specified using the shape parameter. This tells the model how much data to expect. Note that the shape argument expects a tuple.\r\n",
        "\r\n",
        "7. Inputs\r\n",
        "The Input function returns a \"tensor.\" If you print this tensor, you'll see that it is a tf.Tensor object, which indicates it is ready to be used by our model as input.\r\n",
        "\r\n",
        "8. Outputs\r\n",
        "Now that we've defined our input layer, let's define the output layer. Outputs in keras are most commonly a single dense layer, which specifies the shape of the expected output. In this case, we are expecting our model to predict a single value, so we pass one unit to the dense layer.\r\n",
        "\r\n",
        "9. Outputs\r\n",
        "If you print the output layer, the result is NOT a tensorflow tensor. It is a function, which takes a tensor as input and produces a tensor as output. The difference between layers and tensors is key to understanding the keras functional API. Layers are used to construct a deep learning model, and tensors are used to define the data flow through the model.\r\n",
        "\r\n",
        "10. Connecting inputs to outputs\r\n",
        "In this case, the input layer defines a tensor, which we pass to the output_layer() function.\r\n",
        "\r\n",
        "11. Connecting inputs to outputs\r\n",
        "The final output of our model is a tensor.\r\n",
        "\r\n",
        "12. Let's practice!\r\n",
        "It's time for you to build some layers!\r\n",
        "\r\n",
        "Note: PDF available in the same folder - chapter1-2"
      ]
    },
    {
      "cell_type": "markdown",
      "metadata": {
        "id": "K_EvLg-0yV3S"
      },
      "source": [
        "### Fit the model to the tournament basketball data\r\n",
        "\r\n",
        "Now that the model is compiled, you are ready to fit it to some data!\r\n",
        "\r\n",
        "In this exercise, you'll use a dataset of scores from US College Basketball tournament games. Each row of the dataset has the team ids: team_1 and team_2, as integers. It also has the seed difference between the teams (seeds are assigned by the tournament committee and represent a ranking of how strong the teams are) and the score difference of the game (e.g. if team_1 wins by 5 points, the score difference is 5).\r\n",
        "\r\n",
        "To fit the model, you provide a matrix of X variables (in this case one column: the seed difference) and a matrix of Y variables (in this case one column: the score difference).\r\n",
        "\r\n",
        "The games_tourney DataFrame along with the compiled model object is available in your workspace.\r\n",
        "\r\n",
        "```\r\n",
        "# Now fit the model\r\n",
        "model.fit(games_tourney_train['seed_diff'], games_tourney_train['score_diff'],\r\n",
        "          epochs=1,\r\n",
        "          batch_size=128,\r\n",
        "          validation_split=.10,\r\n",
        "          verbose=True)\r\n",
        "```\r\n",
        "*Now your model has learned something about the basketball data!*"
      ]
    },
    {
      "cell_type": "markdown",
      "metadata": {
        "id": "fWzDB5ElzOEk"
      },
      "source": [
        "### Evaluate the model on a test set\r\n",
        "\r\n",
        "After fitting the model, you can evaluate it on new data. You will give the model a new X matrix (also called test data), allow it to make predictions, and then compare to the known y variable (also called target data).\r\n",
        "\r\n",
        "In this case, you'll use data from the post-season tournament to evaluate your model. The tournament games happen after the regular season games you used to train our model, and are therefore a good evaluation of how well your model performs out-of-sample.\r\n",
        "\r\n",
        "The games_tourney_test DataFrame along with the fitted model object is available in your workspace.\r\n",
        "\r\n",
        "```\r\n",
        "# Load the X variable from the test data\r\n",
        "X_test = games_tourney_test['seed_diff']\r\n",
        "\r\n",
        "# Load the y variable from the test data\r\n",
        "y_test = games_tourney_test['score_diff']\r\n",
        "\r\n",
        "# Evaluate the model on the test data\r\n",
        "print(model.evaluate(X_test, y_test, verbose=False))\r\n",
        "```\r\n",
        "*Looks like your model makes pretty good predicitions!*"
      ]
    },
    {
      "cell_type": "markdown",
      "metadata": {
        "id": "0fZSLYWij4ec"
      },
      "source": [
        "# 2. Two Input Networks Using Categorical Embeddings, Shared Layers, and Merge Layers\r\n",
        "\r\n",
        "In this chapter, you will build two-input networks that use categorical embeddings to represent high-cardinality data, shared layers to specify re-usable building blocks, and merge layers to join multiple inputs to a single output. By the end of this chapter, you will have the foundational building blocks for designing neural networks with complex data flows."
      ]
    },
    {
      "cell_type": "markdown",
      "metadata": {
        "id": "kjsTgew_057q"
      },
      "source": [
        "### Category embeddings (Video)\r\n",
        "\r\n",
        "Transcript: \r\n",
        "\r\n",
        "1. Keras input and dense layers\r\n",
        "Hi! I'm Zach Deane-Mayer, and in this course, I'll be teaching you advanced deep learning concepts using the keras functional API. You will learn how to build functional keras models, including advanced topics such as shared layers, categorical embeddings, multiple inputs, and multiple outputs. The keras functional API is extremely simple, yet immensely powerful. By the end of this class, you will build a model that is capable of solving a regression and a classification problem at the same time.\r\n",
        "\r\n",
        "2. Course outline\r\n",
        "Chapter 1 is a refresher on building simple models, where you will learn to use the keras functional API. In chapter 2, you will build a keras model with 2 inputs. In chapter 3, you will learn how to generalize your 2-input model to 3 or more inputs. And finally, in chapter 4, you will build models with multiple outputs that can solve multiple problems.\r\n",
        "\r\n",
        "3. Course Datasets: College basketball data, 1989-2017\r\n",
        "You will be using two datasets of college basketball games from American colleges. The first dataset is from the regular season and has the following data: the IDs of the 2 teams that played, whether the first team was home or away, whether the first team won or lost the game, and by how many points the first team won or lost. For the tournament dataset, you also have the tournament \"seed\", which is a pre-tournament ranking for each team. These seeds range from 1 to 16, where the best 4 teams get a seed of 1, and the worst 4 teams get a seed of 16. You will use the difference in the two team's seeds as an input to your model.\r\n",
        "\r\n",
        "4. Course Datasets: College basketball data, 1989-2017\r\n",
        "Here are the first five rows of both the datasets. You can see that the team variables are encoded as integers, and the tournament dataset has one additional column: the difference between the tournament seeds for both teams. Other than the seed difference, the two datasets have identical columns. Within a given year, a team's roster stays relatively constant, but between years it can change a lot, as seniors graduate, and freshmen start. Therefore, for every year, each school is given a unique integer ID.\r\n",
        "\r\n",
        "5. Inputs and outputs\r\n",
        "Keras models at their simplest, are fundamentally composed of 2 parts: an input layer and an output layer.\r\n",
        "\r\n",
        "6. Inputs\r\n",
        "To start, I'll define a very simple keras model, which only expects a single input. I specify this using the Input() function from the keras.layers module. The number of columns in the input is specified using the shape parameter. This tells the model how much data to expect. Note that the shape argument expects a tuple.\r\n",
        "\r\n",
        "7. Inputs\r\n",
        "The Input function returns a \"tensor.\" If you print this tensor, you'll see that it is a tf.Tensor object, which indicates it is ready to be used by our model as input.\r\n",
        "\r\n",
        "8. Outputs\r\n",
        "Now that we've defined our input layer, let's define the output layer. Outputs in keras are most commonly a single dense layer, which specifies the shape of the expected output. In this case, we are expecting our model to predict a single value, so we pass one unit to the dense layer.\r\n",
        "\r\n",
        "9. Outputs\r\n",
        "If you print the output layer, the result is NOT a tensorflow tensor. It is a function, which takes a tensor as input and produces a tensor as output. The difference between layers and tensors is key to understanding the keras functional API. Layers are used to construct a deep learning model, and tensors are used to define the data flow through the model.\r\n",
        "\r\n",
        "10. Connecting inputs to outputs\r\n",
        "In this case, the input layer defines a tensor, which we pass to the output_layer() function.\r\n",
        "\r\n",
        "11. Connecting inputs to outputs\r\n",
        "The final output of our model is a tensor.\r\n",
        "\r\n",
        "12. Let's practice!\r\n",
        "It's time for you to build some layers\r\n",
        "\r\n",
        "Note: PDF available in the same folder - chapter2"
      ]
    },
    {
      "cell_type": "markdown",
      "metadata": {
        "id": "1fuap1UC05zj"
      },
      "source": [
        "### Define team lookup\r\n",
        "\r\n",
        "Shared layers allow a model to use the same weight matrix for multiple steps. In this exercise, you will build a \"team strength\" layer that represents each team by a single number. You will use this number for both teams in the model. The model will learn a number for each team that works well both when the team is team_1 and when the team is team_2 in the input data.\r\n",
        "\r\n",
        "The games_season DataFrame is available in your workspace.\r\n",
        "```\r\n",
        "# Imports\r\n",
        "from keras.layers import Embedding\r\n",
        "from numpy import unique\r\n",
        "\r\n",
        "# Count the unique number of teams\r\n",
        "n_teams = unique(games_season['team_1']).shape[0]\r\n",
        "\r\n",
        "# Create an embedding layer\r\n",
        "team_lookup = Embedding(input_dim=n_teams,\r\n",
        "                        output_dim=1,\r\n",
        "                        input_length=1,\r\n",
        "                        name='Team-Strength')\r\n",
        "```\r\n",
        "*The embedding layer is a lot like a dictionary, but your model learns the values for each key.*"
      ]
    },
    {
      "cell_type": "markdown",
      "metadata": {
        "id": "V-P5m0UD05ws"
      },
      "source": [
        "### Define team model\r\n",
        "\r\n",
        "The team strength lookup has three components: an input, an embedding layer, and a flatten layer that creates the output.\r\n",
        "\r\n",
        "If you wrap these three layers in a model with an input and output, you can re-use that stack of three layers at multiple places.\r\n",
        "\r\n",
        "Note again that the weights for all three layers will be shared everywhere we use them.\r\n",
        "\r\n",
        "```\r\n",
        "# Imports\r\n",
        "from keras.layers import Input, Embedding, Flatten\r\n",
        "from keras.models import Model\r\n",
        "\r\n",
        "# Create an input layer for the team ID\r\n",
        "teamid_in = Input(shape=(1,))\r\n",
        "\r\n",
        "# Lookup the input in the team strength embedding layer\r\n",
        "strength_lookup = team_lookup(teamid_in)\r\n",
        "\r\n",
        "# Flatten the output\r\n",
        "strength_lookup_flat = Flatten()(strength_lookup)\r\n",
        "\r\n",
        "# Combine the operations into a single, re-usable model\r\n",
        "team_strength_model = Model(teamid_in, strength_lookup_flat, name='Team-Strength-Model')\r\n",
        "```\r\n",
        "*The model will be reusable, so you can use it in two places in your final model.*"
      ]
    },
    {
      "cell_type": "markdown",
      "metadata": {
        "id": "hkVSM5w005ty"
      },
      "source": [
        "### Shared layers (Video)\r\n",
        "\r\n",
        "Transcript:\r\n",
        "\r\n",
        "1. Shared layers\r\n",
        "In this chapter, you will create a model with two inputs: one for each team in the basketball dataset. However, you want these two teams to each use the same embedding layer you defined in the previous lesson. Accomplishing this requires a shared layer.\r\n",
        "\r\n",
        "2. Shared layers\r\n",
        "Shared layers are an advanced deep learning concept, and are only possible with the Keras functional API. They allow you to define an operation and then apply the exact same operation (with the exact same weights) on different inputs. In this model, we will share team rating for both inputs. The learned rating will be the same, whether it applies to team 1 or team 2.\r\n",
        "\r\n",
        "3. Shared layers\r\n",
        "To create a shared layer, you must first create two (or more) inputs, each of which will be passed to the shared layer. In this case, you will use two inputs.\r\n",
        "\r\n",
        "4. Shared layers\r\n",
        "Once you have two inputs, the magic of the Keras functional API becomes apparent. Recall from chapter 1 that the Dense() function returns a function as its output. This function, which Dense() outputs, takes a tensor as input and produces a tensor as output. You can use the same Dense() function to create a shared layer! Doing so is as simple as calling the function twice, with a different input tensor each time.\r\n",
        "\r\n",
        "5. Sharing multiple layers as a model\r\n",
        "Recall the category embedding model we made in the previous lesson. This model first embeds an input and then flattens it. You can also share models, not just layers. This is really cool and is part of what makes the functional API so useful. You can define modular components of models and then reuse them. We define an embedding layer and wrap it in a model. We then define 2 input tensors, and pass each one to the same model, producing 2 output tensors. This will use the same model, with the same layers and the same weights, for mapping each input to its corresponding output.\r\n",
        "\r\n",
        "6. Sharing multiple layers as a model\r\n",
        "In other words, you can take an arbitrary sequence of keras layers, and wrap them up in a model. Once you have a model, you can re-use that model to share that sequence of steps for different input layers.\r\n",
        "\r\n",
        "7. Let's practice!\r\n",
        "Now you will create a shared layer using the team strength embedding model you made in the previous lesson.\r\n",
        "\r\n",
        "Note: PDF available in the same folder - chapter2-1\r\n"
      ]
    },
    {
      "cell_type": "markdown",
      "metadata": {
        "id": "OPg5lRZb05qe"
      },
      "source": [
        "### Defining two inputs\r\n",
        "\r\n",
        "In this exercise, you will define two input layers for the two teams in your model. This allows you to specify later in the model how the data from each team will be used differently.\r\n",
        "\r\n",
        "```\r\n",
        "# Load the input layer from keras.layers\r\n",
        "from keras.layers import Input\r\n",
        "\r\n",
        "# Input layer for team 1\r\n",
        "team_in_1 = Input(shape=(1,), name=\"Team-1-In\")\r\n",
        "\r\n",
        "# Separate input layer for team 2\r\n",
        "team_in_2 = Input(shape=(1,), name=\"Team-2-In\")\r\n",
        "```\r\n",
        "*These two inputs will be used later for the shared layer.*"
      ]
    },
    {
      "cell_type": "markdown",
      "metadata": {
        "id": "il9Njare05kx"
      },
      "source": [
        "### Lookup both inputs in the same model\r\n",
        "\r\n",
        "Now that you have a team strength model and an input layer for each team, you can lookup the team inputs in the shared team strength model. The two inputs will share the same weights.\r\n",
        "\r\n",
        "In this dataset, you have 10,888 unique teams. You want to learn a strength rating for each team, such that if any pair of teams plays each other, you can predict the score, even if those two teams have never played before. Furthermore, you want the strength rating to be the same, regardless of whether the team is the home team or the away team.\r\n",
        "\r\n",
        "To achieve this, you use a shared layer, defined by the re-usable model (team_strength_model()) you built in exercise 3 and the two input layers (team_in_1 and team_in_2) from the previous exercise, all of which are available in your workspace.\r\n",
        "\r\n",
        "```\r\n",
        "# Lookup team 1 in the team strength model\r\n",
        "team_1_strength = team_strength_model(team_in_1)\r\n",
        "\r\n",
        "# Lookup team 2 in the team strength model\r\n",
        "team_2_strength = team_strength_model(team_in_2)\r\n",
        "```\r\n",
        "*Now your model knows how strong each team is.*"
      ]
    },
    {
      "cell_type": "markdown",
      "metadata": {
        "id": "pcQgO2Lf05dU"
      },
      "source": [
        "### Merge layers (Video)\r\n",
        "\r\n",
        "Transcript:\r\n",
        "\r\n",
        "1. Shared layers\r\n",
        "In this chapter, you will create a model with two inputs: one for each team in the basketball dataset. However, you want these two teams to each use the same embedding layer you defined in the previous lesson. Accomplishing this requires a shared layer.\r\n",
        "\r\n",
        "2. Shared layers\r\n",
        "Shared layers are an advanced deep learning concept, and are only possible with the Keras functional API. They allow you to define an operation and then apply the exact same operation (with the exact same weights) on different inputs. In this model, we will share team rating for both inputs. The learned rating will be the same, whether it applies to team 1 or team 2.\r\n",
        "\r\n",
        "3. Shared layers\r\n",
        "To create a shared layer, you must first create two (or more) inputs, each of which will be passed to the shared layer. In this case, you will use two inputs.\r\n",
        "\r\n",
        "4. Shared layers\r\n",
        "Once you have two inputs, the magic of the Keras functional API becomes apparent. Recall from chapter 1 that the Dense() function returns a function as its output. This function, which Dense() outputs, takes a tensor as input and produces a tensor as output. You can use the same Dense() function to create a shared layer! Doing so is as simple as calling the function twice, with a different input tensor each time.\r\n",
        "\r\n",
        "5. Sharing multiple layers as a model\r\n",
        "Recall the category embedding model we made in the previous lesson. This model first embeds an input and then flattens it. You can also share models, not just layers. This is really cool and is part of what makes the functional API so useful. You can define modular components of models and then reuse them. We define an embedding layer and wrap it in a model. We then define 2 input tensors, and pass each one to the same model, producing 2 output tensors. This will use the same model, with the same layers and the same weights, for mapping each input to its corresponding output.\r\n",
        "\r\n",
        "6. Sharing multiple layers as a model\r\n",
        "In other words, you can take an arbitrary sequence of keras layers, and wrap them up in a model. Once you have a model, you can re-use that model to share that sequence of steps for different input layers.\r\n",
        "\r\n",
        "7. Let's practice!\r\n",
        "Now you will create a shared layer using the team strength embedding model you made in the previous lesson.\r\n",
        "\r\n",
        "Note: PDF available in the same folder - chapter2-2\r\n"
      ]
    },
    {
      "cell_type": "markdown",
      "metadata": {
        "id": "d5-tnd2405TP"
      },
      "source": [
        "### Output layer using shared layer\r\n",
        "\r\n",
        "Now that you've looked up how \"strong\" each team is, subtract the team strengths to determine which team is expected to win the game.\r\n",
        "\r\n",
        "This is a bit like the seeds that the tournament committee uses, which are also a measure of team strength. But rather than using seed differences to predict score differences, you'll use the difference of your own team strength model to predict score differences.\r\n",
        "\r\n",
        "The subtract layer will combine the weights from the two layers by subtracting them.\r\n",
        "\r\n",
        "```\r\n",
        "# Import the Subtract layer from keras\r\n",
        "from keras.layers import Subtract\r\n",
        "\r\n",
        "# Create a subtract layer using the inputs from the previous exercise\r\n",
        "score_diff = Subtract()([team_1_strength, team_2_strength])\r\n",
        "```\r\n",
        "*This setup subracts the team strength ratings to determine a winner.*."
      ]
    },
    {
      "cell_type": "markdown",
      "metadata": {
        "id": "rCQOq6fe91HY"
      },
      "source": [
        "### Model using two inputs and one output\r\n",
        "\r\n",
        "Now that you have your two inputs (team id 1 and team id 2) and output (score difference), you can wrap them up in a model so you can use it later for fitting to data and evaluating on new data.\r\n",
        "\r\n",
        "```\r\n",
        "# Imports\r\n",
        "from keras.layers import Subtract\r\n",
        "from keras.models import Model\r\n",
        "\r\n",
        "# Subtraction layer from previous exercise\r\n",
        "score_diff = Subtract()([team_1_strength, team_2_strength])\r\n",
        "\r\n",
        "# Create the model\r\n",
        "model = Model([team_in_1, team_in_2], score_diff)\r\n",
        "\r\n",
        "# Compile the model\r\n",
        "model.compile(optimizer=\"adam\", loss=\"mean_absolute_error\")\r\n",
        "```\r\n",
        "*Now your model is finalized and ready to fit to data.*"
      ]
    },
    {
      "cell_type": "markdown",
      "metadata": {
        "id": "RmO701s-05Fa"
      },
      "source": [
        "### Predict from your model (Video)\r\n",
        "\r\n",
        "Transcript:\r\n",
        "\r\n",
        "1. Shared layers\r\n",
        "In this chapter, you will create a model with two inputs: one for each team in the basketball dataset. However, you want these two teams to each use the same embedding layer you defined in the previous lesson. Accomplishing this requires a shared layer.\r\n",
        "\r\n",
        "2. Shared layers\r\n",
        "Shared layers are an advanced deep learning concept, and are only possible with the Keras functional API. They allow you to define an operation and then apply the exact same operation (with the exact same weights) on different inputs. In this model, we will share team rating for both inputs. The learned rating will be the same, whether it applies to team 1 or team 2.\r\n",
        "\r\n",
        "3. Shared layers\r\n",
        "To create a shared layer, you must first create two (or more) inputs, each of which will be passed to the shared layer. In this case, you will use two inputs.\r\n",
        "\r\n",
        "4. Shared layers\r\n",
        "Once you have two inputs, the magic of the Keras functional API becomes apparent. Recall from chapter 1 that the Dense() function returns a function as its output. This function, which Dense() outputs, takes a tensor as input and produces a tensor as output. You can use the same Dense() function to create a shared layer! Doing so is as simple as calling the function twice, with a different input tensor each time.\r\n",
        "\r\n",
        "5. Sharing multiple layers as a model\r\n",
        "Recall the category embedding model we made in the previous lesson. This model first embeds an input and then flattens it. You can also share models, not just layers. This is really cool and is part of what makes the functional API so useful. You can define modular components of models and then reuse them. We define an embedding layer and wrap it in a model. We then define 2 input tensors, and pass each one to the same model, producing 2 output tensors. This will use the same model, with the same layers and the same weights, for mapping each input to its corresponding output.\r\n",
        "\r\n",
        "6. Sharing multiple layers as a model\r\n",
        "In other words, you can take an arbitrary sequence of keras layers, and wrap them up in a model. Once you have a model, you can re-use that model to share that sequence of steps for different input layers.\r\n",
        "\r\n",
        "7. Let's practice!\r\n",
        "Now you will create a shared layer using the team strength embedding model you made in the previous lesson.\r\n",
        "\r\n",
        "Note: PDF available in the same folder - chapter2-3\r\n"
      ]
    },
    {
      "cell_type": "markdown",
      "metadata": {
        "id": "0uIauY0i-3RT"
      },
      "source": [
        "### Fit the model to the regular season training data\r\n",
        "\r\n",
        "Now that you've defined a complete team strength model, you can fit it to the basketball data! Since your model has two inputs now, you need to pass the input data as a list.\r\n",
        "\r\n",
        "```\r\n",
        "# Get the team_1 column from the regular season data\r\n",
        "input_1 = games_season['team_1']\r\n",
        "\r\n",
        "# Get the team_2 column from the regular season data\r\n",
        "input_2 = games_season['team_2']\r\n",
        "\r\n",
        "# Fit the model to input 1 and 2, using score diff as a target\r\n",
        "model.fit([input_1,input_2],\r\n",
        "          games_season['score_diff'],\r\n",
        "          epochs=1,\r\n",
        "          batch_size=2048,\r\n",
        "          validation_split=.10,\r\n",
        "          verbose=True)\r\n",
        "```\r\n",
        "*ow our model has learned a strength rating for every team.*"
      ]
    },
    {
      "cell_type": "markdown",
      "metadata": {
        "id": "KuID36LpAOLL"
      },
      "source": [
        "### Evaluate the model on the tournament test data\r\n",
        "\r\n",
        "The model you fit to the regular season data (model) in the previous exercise and the tournament dataset (games_tourney) are available in your workspace.\r\n",
        "\r\n",
        "In this exercise, you will evaluate the model on this new dataset. This evaluation will tell you how well you can predict the tournament games, based on a model trained with the regular season data. This is interesting because many teams play each other in the tournament that did not play in the regular season, so this is a very good check that your model is not overfitting.\r\n",
        "\r\n",
        "```\r\n",
        "# Get team_1 from the tournament data\r\n",
        "input_1 = games_tourney['team_1']\r\n",
        "\r\n",
        "# Get team_2 from the tournament data\r\n",
        "input_2 = games_tourney['team_2']\r\n",
        "\r\n",
        "# Evaluate the model using these inputs\r\n",
        "print(model.evaluate([input_1, input_2], games_tourney['score_diff'], verbose=False))\r\n",
        "```\r\n",
        "*Great job! Its time to move on to models with more than two inputs.*"
      ]
    },
    {
      "cell_type": "markdown",
      "metadata": {
        "id": "AbnFqHLwj4pD"
      },
      "source": [
        "# 3. Multiple Inputs: 3 Inputs (and Beyond!)\r\n",
        "\r\n",
        "In this chapter, you will extend your 2-input model to 3 inputs, and learn how to use Keras' summary and plot functions to understand the parameters and topology of your neural networks. By the end of the chapter, you will understand how to extend a 2-input model to 3 inputs and beyond.\r\n"
      ]
    },
    {
      "cell_type": "code",
      "metadata": {
        "id": "paJBCEz4lPgH"
      },
      "source": [
        ""
      ],
      "execution_count": null,
      "outputs": []
    },
    {
      "cell_type": "code",
      "metadata": {
        "id": "T53oTRtqlPdG"
      },
      "source": [
        ""
      ],
      "execution_count": null,
      "outputs": []
    },
    {
      "cell_type": "markdown",
      "metadata": {
        "id": "yvGkBtawkOvP"
      },
      "source": [
        "# 4. Multiple Outputs\r\n",
        "\r\n",
        "In this chapter, you will build neural networks with multiple outputs, which can be used to solve regression problems with multiple targets. You will also build a model that solves a regression problem and a classification problem simultaneously. "
      ]
    },
    {
      "cell_type": "code",
      "metadata": {
        "id": "uleyIrpYlQZM"
      },
      "source": [
        ""
      ],
      "execution_count": null,
      "outputs": []
    },
    {
      "cell_type": "code",
      "metadata": {
        "id": "zn4sYOPtlQWe"
      },
      "source": [
        ""
      ],
      "execution_count": null,
      "outputs": []
    },
    {
      "cell_type": "code",
      "metadata": {
        "id": "kwiQ-_HWlQUC"
      },
      "source": [
        ""
      ],
      "execution_count": null,
      "outputs": []
    },
    {
      "cell_type": "markdown",
      "metadata": {
        "id": "geyPGIWtkpMZ"
      },
      "source": [
        "# Datasets\r\n",
        "1. [Basketball data](https://assets.datacamp.com/production/repositories/2189/datasets/78cfc4f848041e10a64e72a9cd4f0a8e6f80ab21/basketball_data.zip)\r\n",
        "2. [Basketball models](https://assets.datacamp.com/production/repositories/2189/datasets/87408a711961f0d640f7c31faa9cfbf8248e6a23/basketball_models.zip)"
      ]
    }
  ]
}