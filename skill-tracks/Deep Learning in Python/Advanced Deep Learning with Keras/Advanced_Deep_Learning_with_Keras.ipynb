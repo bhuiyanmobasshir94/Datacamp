{
  "nbformat": 4,
  "nbformat_minor": 0,
  "metadata": {
    "colab": {
      "name": "Advanced Deep Learning with Keras.ipynb",
      "provenance": []
    },
    "kernelspec": {
      "name": "python3",
      "display_name": "Python 3"
    }
  },
  "cells": [
    {
      "cell_type": "markdown",
      "metadata": {
        "id": "6zu2isPZlBlv"
      },
      "source": [
        "# Advanced Deep Learning with Keras\r\n",
        "---\r\n",
        "\r\n",
        "\r\n",
        "\r\n",
        "\r\n",
        "\r\n",
        "\r\n"
      ]
    },
    {
      "cell_type": "markdown",
      "metadata": {
        "id": "1_OLCWn_jFhZ"
      },
      "source": [
        "# Course Description\r\n",
        "\r\n",
        "This course shows you how to solve a variety of problems using the versatile Keras functional API. You will start with simple, multi-layer dense networks (also known as multi-layer perceptrons), and continue on to more complicated architectures. The course will cover how to build models with multiple inputs and a single output, as well as how to share weights between layers in a model. We will also cover advanced topics such as category embeddings and multiple-output networks. If you've ever wanted to train a network that does both classification and regression, then this course is for you!"
      ]
    },
    {
      "cell_type": "markdown",
      "metadata": {
        "id": "gLkrYAedjgVt"
      },
      "source": [
        "# 1. The Keras Functional API\r\n",
        "\r\n",
        "In this chapter, you'll become familiar with the basics of the Keras functional API. You'll build a simple functional network using functional building blocks, fit it to data, and make predictions."
      ]
    },
    {
      "cell_type": "markdown",
      "metadata": {
        "id": "YTwhbrFRnuym"
      },
      "source": [
        "### Keras input and dense layers (Video)\r\n",
        "\r\n",
        "Transcript:\r\n",
        "\r\n",
        "1. Keras input and dense layers\r\n",
        "Hi! I'm Zach Deane-Mayer, and in this course, I'll be teaching you advanced deep learning concepts using the keras functional API. You will learn how to build functional keras models, including advanced topics such as shared layers, categorical embeddings, multiple inputs, and multiple outputs. The keras functional API is extremely simple, yet immensely powerful. By the end of this class, you will build a model that is capable of solving a regression and a classification problem at the same time.\r\n",
        "\r\n",
        "2. Course outline\r\n",
        "Chapter 1 is a refresher on building simple models, where you will learn to use the keras functional API. In chapter 2, you will build a keras model with 2 inputs. In chapter 3, you will learn how to generalize your 2-input model to 3 or more inputs. And finally, in chapter 4, you will build models with multiple outputs that can solve multiple problems.\r\n",
        "\r\n",
        "3. Course Datasets: College basketball data, 1989-2017\r\n",
        "You will be using two datasets of college basketball games from American colleges. The first dataset is from the regular season and has the following data: the IDs of the 2 teams that played, whether the first team was home or away, whether the first team won or lost the game, and by how many points the first team won or lost. For the tournament dataset, you also have the tournament \"seed\", which is a pre-tournament ranking for each team. These seeds range from 1 to 16, where the best 4 teams get a seed of 1, and the worst 4 teams get a seed of 16. You will use the difference in the two team's seeds as an input to your model.\r\n",
        "\r\n",
        "4. Course Datasets: College basketball data, 1989-2017\r\n",
        "Here are the first five rows of both the datasets. You can see that the team variables are encoded as integers, and the tournament dataset has one additional column: the difference between the tournament seeds for both teams. Other than the seed difference, the two datasets have identical columns. Within a given year, a team's roster stays relatively constant, but between years it can change a lot, as seniors graduate, and freshmen start. Therefore, for every year, each school is given a unique integer ID.\r\n",
        "\r\n",
        "5. Inputs and outputs\r\n",
        "Keras models at their simplest, are fundamentally composed of 2 parts: an input layer and an output layer.\r\n",
        "\r\n",
        "6. Inputs\r\n",
        "To start, I'll define a very simple keras model, which only expects a single input. I specify this using the Input() function from the keras.layers module. The number of columns in the input is specified using the shape parameter. This tells the model how much data to expect. Note that the shape argument expects a tuple.\r\n",
        "\r\n",
        "7. Inputs\r\n",
        "The Input function returns a \"tensor.\" If you print this tensor, you'll see that it is a tf.Tensor object, which indicates it is ready to be used by our model as input.\r\n",
        "\r\n",
        "8. Outputs\r\n",
        "Now that we've defined our input layer, let's define the output layer. Outputs in keras are most commonly a single dense layer, which specifies the shape of the expected output. In this case, we are expecting our model to predict a single value, so we pass one unit to the dense layer.\r\n",
        "\r\n",
        "9. Outputs\r\n",
        "If you print the output layer, the result is NOT a tensorflow tensor. It is a function, which takes a tensor as input and produces a tensor as output. The difference between layers and tensors is key to understanding the keras functional API. Layers are used to construct a deep learning model, and tensors are used to define the data flow through the model.\r\n",
        "\r\n",
        "10. Connecting inputs to outputs\r\n",
        "In this case, the input layer defines a tensor, which we pass to the output_layer() function.\r\n",
        "\r\n",
        "11. Connecting inputs to outputs\r\n",
        "The final output of our model is a tensor.\r\n",
        "\r\n",
        "12. Let's practice!\r\n",
        "It's time for you to build some layers!\r\n",
        "\r\n",
        "Note: PDF available in the same folder chapter1\r\n"
      ]
    },
    {
      "cell_type": "markdown",
      "metadata": {
        "id": "Fb_-cDZypjue"
      },
      "source": [
        "### Input layers\r\n",
        "\r\n",
        "The first step in creating a neural network model is to define the Input layer. This layer takes in raw data, usually in the form of numpy arrays. The shape of the Input layer defines how many variables your neural network will use. For example, if the input data has 10 columns, you define an Input layer with a shape of (10,).\r\n",
        "\r\n",
        "In this case, you are only using one input in your network.\r\n",
        "\r\n",
        "This course touches on a lot of concepts you may have forgotten, so if you ever need a quick refresher, download the [Keras Cheat Sheet](https://datacamp-community-prod.s3.amazonaws.com/94fc681d-5422-40cb-a129-2218e9522f17) and keep it handy!\r\n",
        "\r\n",
        "```\r\n",
        "# Import Input from keras.layers\r\n",
        "from keras.layers import Input\r\n",
        "# Create an input layer of shape 1\r\n",
        "input_tensor = Input(shape=(1,))\r\n",
        "```\r\n",
        "*Great! Remember that the input layer allows your model to load data.*"
      ]
    },
    {
      "cell_type": "markdown",
      "metadata": {
        "id": "DksQueaiq0qX"
      },
      "source": [
        "### Dense layers\r\n",
        "\r\n",
        "Once you have an Input layer, the next step is to add a Dense layer.\r\n",
        "\r\n",
        "Dense layers learn a weight matrix, where the first dimension of the matrix is the dimension of the input data, and the second dimension is the dimension of the output data. Recall that your Input layer has a shape of 1. In this case, your output layer will also have a shape of 1. This means that the Dense layer will learn a 1x1 weight matrix.\r\n",
        "\r\n",
        "In this exercise, you will add a dense layer to your model, after the input layer.\r\n",
        "\r\n",
        "```\r\n",
        "# Load layers\r\n",
        "from keras.layers import Input, Dense\r\n",
        "\r\n",
        "# Input layer\r\n",
        "input_tensor = Input(shape=(1,))\r\n",
        "\r\n",
        "# Dense layer\r\n",
        "output_layer = Dense(1)\r\n",
        "\r\n",
        "# Connect the dense layer to the input_tensor\r\n",
        "output_tensor = output_layer(input_tensor)\r\n",
        "```\r\n",
        "*Nice job! This network will take the input, apply a linear coefficient to it, and return the result.*"
      ]
    },
    {
      "cell_type": "markdown",
      "metadata": {
        "id": "bRgA-lYfrctD"
      },
      "source": [
        "# Output layers\r\n",
        "\r\n",
        "Output layers are simply Dense layers! Output layers are used to reduce the dimension of the inputs to the dimension of the outputs. You'll learn more about output dimensions in chapter 4, but for now, you'll always use a single output in your neural networks, which is equivalent to Dense(1) or a dense layer with a single unit.\r\n",
        "\r\n",
        "```\r\n",
        "# Load layers\r\n",
        "from keras.layers import Input, Dense\r\n",
        "\r\n",
        "# Input layer\r\n",
        "input_tensor = Input(shape=(1,))\r\n",
        "\r\n",
        "# Create a dense layer and connect the dense layer to the input_tensor in one step\r\n",
        "# Note that we did this in 2 steps in the previous exercise, but are doing it in one step now\r\n",
        "output_tensor = Dense(1)(input_tensor)\r\n",
        "```\r\n",
        "*The output layer allows your model to make predictions.*"
      ]
    },
    {
      "cell_type": "markdown",
      "metadata": {
        "id": "ZoJQ8enfsMJX"
      },
      "source": [
        "### Build and compile a model (Video)\r\n",
        "\r\n",
        "Transcript:\r\n",
        "\r\n",
        "1. Keras input and dense layers\r\n",
        "Hi! I'm Zach Deane-Mayer, and in this course, I'll be teaching you advanced deep learning concepts using the keras functional API. You will learn how to build functional keras models, including advanced topics such as shared layers, categorical embeddings, multiple inputs, and multiple outputs. The keras functional API is extremely simple, yet immensely powerful. By the end of this class, you will build a model that is capable of solving a regression and a classification problem at the same time.\r\n",
        "\r\n",
        "2. Course outline\r\n",
        "Chapter 1 is a refresher on building simple models, where you will learn to use the keras functional API. In chapter 2, you will build a keras model with 2 inputs. In chapter 3, you will learn how to generalize your 2-input model to 3 or more inputs. And finally, in chapter 4, you will build models with multiple outputs that can solve multiple problems.\r\n",
        "\r\n",
        "3. Course Datasets: College basketball data, 1989-2017\r\n",
        "You will be using two datasets of college basketball games from American colleges. The first dataset is from the regular season and has the following data: the IDs of the 2 teams that played, whether the first team was home or away, whether the first team won or lost the game, and by how many points the first team won or lost. For the tournament dataset, you also have the tournament \"seed\", which is a pre-tournament ranking for each team. These seeds range from 1 to 16, where the best 4 teams get a seed of 1, and the worst 4 teams get a seed of 16. You will use the difference in the two team's seeds as an input to your model.\r\n",
        "\r\n",
        "4. Course Datasets: College basketball data, 1989-2017\r\n",
        "Here are the first five rows of both the datasets. You can see that the team variables are encoded as integers, and the tournament dataset has one additional column: the difference between the tournament seeds for both teams. Other than the seed difference, the two datasets have identical columns. Within a given year, a team's roster stays relatively constant, but between years it can change a lot, as seniors graduate, and freshmen start. Therefore, for every year, each school is given a unique integer ID.\r\n",
        "\r\n",
        "5. Inputs and outputs\r\n",
        "Keras models at their simplest, are fundamentally composed of 2 parts: an input layer and an output layer.\r\n",
        "\r\n",
        "6. Inputs\r\n",
        "To start, I'll define a very simple keras model, which only expects a single input. I specify this using the Input() function from the keras.layers module. The number of columns in the input is specified using the shape parameter. This tells the model how much data to expect. Note that the shape argument expects a tuple.\r\n",
        "\r\n",
        "7. Inputs\r\n",
        "The Input function returns a \"tensor.\" If you print this tensor, you'll see that it is a tf.Tensor object, which indicates it is ready to be used by our model as input.\r\n",
        "\r\n",
        "8. Outputs\r\n",
        "Now that we've defined our input layer, let's define the output layer. Outputs in keras are most commonly a single dense layer, which specifies the shape of the expected output. In this case, we are expecting our model to predict a single value, so we pass one unit to the dense layer.\r\n",
        "\r\n",
        "9. Outputs\r\n",
        "If you print the output layer, the result is NOT a tensorflow tensor. It is a function, which takes a tensor as input and produces a tensor as output. The difference between layers and tensors is key to understanding the keras functional API. Layers are used to construct a deep learning model, and tensors are used to define the data flow through the model.\r\n",
        "\r\n",
        "10. Connecting inputs to outputs\r\n",
        "In this case, the input layer defines a tensor, which we pass to the output_layer() function.\r\n",
        "\r\n",
        "11. Connecting inputs to outputs\r\n",
        "The final output of our model is a tensor.\r\n",
        "\r\n",
        "12. Let's practice!\r\n",
        "It's time for you to build some layers!\r\n",
        "\r\n",
        "Note: PDF available in the same folder - chapter1-1\r\n"
      ]
    },
    {
      "cell_type": "markdown",
      "metadata": {
        "id": "rIz290xAsnhN"
      },
      "source": [
        "### Build a model\r\n",
        "\r\n",
        "Once you've defined an input layer and an output layer, you can build a Keras model. The model object is how you tell Keras where the model starts and stops: where data comes in and where predictions come out.\r\n",
        "\r\n",
        "```\r\n",
        "# Input/dense/output layers\r\n",
        "from keras.layers import Input, Dense\r\n",
        "input_tensor = Input(shape=(1,))\r\n",
        "output_tensor = Dense(1)(input_tensor)\r\n",
        "\r\n",
        "# Build the model\r\n",
        "from keras.models import Model\r\n",
        "model = Model(input_tensor, output_tensor)\r\n",
        "```\r\n",
        "*This model is a complete neural network, ready to learn from data and make prediction.*"
      ]
    },
    {
      "cell_type": "markdown",
      "metadata": {
        "id": "aOi-u7RJuTvc"
      },
      "source": [
        "### Compile a model\r\n",
        "\r\n",
        "The final step in creating a model is compiling it. Now that you've created a model, you have to compile it before you can fit it to data. This finalizes your model, freezes all its settings, and prepares it to meet some data!\r\n",
        "\r\n",
        "During compilation, you specify the optimizer to use for fitting the model to the data, and a loss function. 'adam' is a good default optimizer to use, and will generally work well. Loss function depends on the problem at hand. Mean squared error is a common loss function and will optimize for predicting the mean, as is done in least squares regression.\r\n",
        "\r\n",
        "Mean absolute error optimizes for the median and is used in quantile regression. For this dataset, 'mean_absolute_error' works pretty well, so use it as your loss function.\r\n",
        "\r\n",
        "```\r\n",
        "# Compile the model\r\n",
        "model.compile(optimizer='adam', loss='mean_absolute_error')\r\n",
        "```\r\n",
        "*Compiling a model is the final step before fitting it.*"
      ]
    },
    {
      "cell_type": "markdown",
      "metadata": {
        "id": "k-_cg-_hvlpD"
      },
      "source": [
        "### Visualize a model\r\n",
        "\r\n",
        "Now that you've compiled the model, take a look a the result of your hard work! You can do this by looking at the model summary, as well as its plot.\r\n",
        "\r\n",
        "The summary will tell you the names of the layers, as well as how many units they have and how many parameters are in the model.\r\n",
        "\r\n",
        "The plot will show how the layers connect to each other.\r\n",
        "\r\n",
        "```\r\n",
        "# Import the plotting function\r\n",
        "from keras.utils import plot_model\r\n",
        "import matplotlib.pyplot as plt\r\n",
        "\r\n",
        "# Summarize the model\r\n",
        "model.summary()\r\n",
        "\r\n",
        "# Plot the model\r\n",
        "plot_model(model, to_file='model.png')\r\n",
        "\r\n",
        "# Display the image\r\n",
        "data = plt.imread('model.png')\r\n",
        "plt.imshow(data)\r\n",
        "plt.show()\r\n",
        "```\r\n",
        "*It turns out neural networks aren't really black boxes after all!*"
      ]
    },
    {
      "cell_type": "markdown",
      "metadata": {
        "id": "ua9zK_9jwaKJ"
      },
      "source": [
        "### Fit and evaluate a model (Video)\r\n",
        "\r\n",
        "Transcript:\r\n",
        "\r\n",
        "1. Keras input and dense layers\r\n",
        "Hi! I'm Zach Deane-Mayer, and in this course, I'll be teaching you advanced deep learning concepts using the keras functional API. You will learn how to build functional keras models, including advanced topics such as shared layers, categorical embeddings, multiple inputs, and multiple outputs. The keras functional API is extremely simple, yet immensely powerful. By the end of this class, you will build a model that is capable of solving a regression and a classification problem at the same time.\r\n",
        "\r\n",
        "2. Course outline\r\n",
        "Chapter 1 is a refresher on building simple models, where you will learn to use the keras functional API. In chapter 2, you will build a keras model with 2 inputs. In chapter 3, you will learn how to generalize your 2-input model to 3 or more inputs. And finally, in chapter 4, you will build models with multiple outputs that can solve multiple problems.\r\n",
        "\r\n",
        "3. Course Datasets: College basketball data, 1989-2017\r\n",
        "You will be using two datasets of college basketball games from American colleges. The first dataset is from the regular season and has the following data: the IDs of the 2 teams that played, whether the first team was home or away, whether the first team won or lost the game, and by how many points the first team won or lost. For the tournament dataset, you also have the tournament \"seed\", which is a pre-tournament ranking for each team. These seeds range from 1 to 16, where the best 4 teams get a seed of 1, and the worst 4 teams get a seed of 16. You will use the difference in the two team's seeds as an input to your model.\r\n",
        "\r\n",
        "4. Course Datasets: College basketball data, 1989-2017\r\n",
        "Here are the first five rows of both the datasets. You can see that the team variables are encoded as integers, and the tournament dataset has one additional column: the difference between the tournament seeds for both teams. Other than the seed difference, the two datasets have identical columns. Within a given year, a team's roster stays relatively constant, but between years it can change a lot, as seniors graduate, and freshmen start. Therefore, for every year, each school is given a unique integer ID.\r\n",
        "\r\n",
        "5. Inputs and outputs\r\n",
        "Keras models at their simplest, are fundamentally composed of 2 parts: an input layer and an output layer.\r\n",
        "\r\n",
        "6. Inputs\r\n",
        "To start, I'll define a very simple keras model, which only expects a single input. I specify this using the Input() function from the keras.layers module. The number of columns in the input is specified using the shape parameter. This tells the model how much data to expect. Note that the shape argument expects a tuple.\r\n",
        "\r\n",
        "7. Inputs\r\n",
        "The Input function returns a \"tensor.\" If you print this tensor, you'll see that it is a tf.Tensor object, which indicates it is ready to be used by our model as input.\r\n",
        "\r\n",
        "8. Outputs\r\n",
        "Now that we've defined our input layer, let's define the output layer. Outputs in keras are most commonly a single dense layer, which specifies the shape of the expected output. In this case, we are expecting our model to predict a single value, so we pass one unit to the dense layer.\r\n",
        "\r\n",
        "9. Outputs\r\n",
        "If you print the output layer, the result is NOT a tensorflow tensor. It is a function, which takes a tensor as input and produces a tensor as output. The difference between layers and tensors is key to understanding the keras functional API. Layers are used to construct a deep learning model, and tensors are used to define the data flow through the model.\r\n",
        "\r\n",
        "10. Connecting inputs to outputs\r\n",
        "In this case, the input layer defines a tensor, which we pass to the output_layer() function.\r\n",
        "\r\n",
        "11. Connecting inputs to outputs\r\n",
        "The final output of our model is a tensor.\r\n",
        "\r\n",
        "12. Let's practice!\r\n",
        "It's time for you to build some layers!\r\n",
        "\r\n",
        "Note: PDF available in the same folder - chapter1-2"
      ]
    },
    {
      "cell_type": "markdown",
      "metadata": {
        "id": "K_EvLg-0yV3S"
      },
      "source": [
        "### Fit the model to the tournament basketball data\r\n",
        "\r\n",
        "Now that the model is compiled, you are ready to fit it to some data!\r\n",
        "\r\n",
        "In this exercise, you'll use a dataset of scores from US College Basketball tournament games. Each row of the dataset has the team ids: team_1 and team_2, as integers. It also has the seed difference between the teams (seeds are assigned by the tournament committee and represent a ranking of how strong the teams are) and the score difference of the game (e.g. if team_1 wins by 5 points, the score difference is 5).\r\n",
        "\r\n",
        "To fit the model, you provide a matrix of X variables (in this case one column: the seed difference) and a matrix of Y variables (in this case one column: the score difference).\r\n",
        "\r\n",
        "The games_tourney DataFrame along with the compiled model object is available in your workspace.\r\n",
        "\r\n",
        "```\r\n",
        "# Now fit the model\r\n",
        "model.fit(games_tourney_train['seed_diff'], games_tourney_train['score_diff'],\r\n",
        "          epochs=1,\r\n",
        "          batch_size=128,\r\n",
        "          validation_split=.10,\r\n",
        "          verbose=True)\r\n",
        "```\r\n",
        "*Now your model has learned something about the basketball data!*"
      ]
    },
    {
      "cell_type": "markdown",
      "metadata": {
        "id": "fWzDB5ElzOEk"
      },
      "source": [
        "### Evaluate the model on a test set\r\n",
        "\r\n",
        "After fitting the model, you can evaluate it on new data. You will give the model a new X matrix (also called test data), allow it to make predictions, and then compare to the known y variable (also called target data).\r\n",
        "\r\n",
        "In this case, you'll use data from the post-season tournament to evaluate your model. The tournament games happen after the regular season games you used to train our model, and are therefore a good evaluation of how well your model performs out-of-sample.\r\n",
        "\r\n",
        "The games_tourney_test DataFrame along with the fitted model object is available in your workspace.\r\n",
        "\r\n",
        "```\r\n",
        "# Load the X variable from the test data\r\n",
        "X_test = games_tourney_test['seed_diff']\r\n",
        "\r\n",
        "# Load the y variable from the test data\r\n",
        "y_test = games_tourney_test['score_diff']\r\n",
        "\r\n",
        "# Evaluate the model on the test data\r\n",
        "print(model.evaluate(X_test, y_test, verbose=False))\r\n",
        "```\r\n",
        "*Looks like your model makes pretty good predicitions!*"
      ]
    },
    {
      "cell_type": "markdown",
      "metadata": {
        "id": "0fZSLYWij4ec"
      },
      "source": [
        "# 2. Two Input Networks Using Categorical Embeddings, Shared Layers, and Merge Layers\r\n",
        "\r\n",
        "In this chapter, you will build two-input networks that use categorical embeddings to represent high-cardinality data, shared layers to specify re-usable building blocks, and merge layers to join multiple inputs to a single output. By the end of this chapter, you will have the foundational building blocks for designing neural networks with complex data flows."
      ]
    },
    {
      "cell_type": "code",
      "metadata": {
        "id": "I8M91TArlOtb"
      },
      "source": [
        ""
      ],
      "execution_count": null,
      "outputs": []
    },
    {
      "cell_type": "code",
      "metadata": {
        "id": "aUvoAk4QlOqT"
      },
      "source": [
        ""
      ],
      "execution_count": null,
      "outputs": []
    },
    {
      "cell_type": "markdown",
      "metadata": {
        "id": "AbnFqHLwj4pD"
      },
      "source": [
        "# 3. Multiple Inputs: 3 Inputs (and Beyond!)\r\n",
        "\r\n",
        "In this chapter, you will extend your 2-input model to 3 inputs, and learn how to use Keras' summary and plot functions to understand the parameters and topology of your neural networks. By the end of the chapter, you will understand how to extend a 2-input model to 3 inputs and beyond.\r\n"
      ]
    },
    {
      "cell_type": "code",
      "metadata": {
        "id": "paJBCEz4lPgH"
      },
      "source": [
        ""
      ],
      "execution_count": null,
      "outputs": []
    },
    {
      "cell_type": "code",
      "metadata": {
        "id": "T53oTRtqlPdG"
      },
      "source": [
        ""
      ],
      "execution_count": null,
      "outputs": []
    },
    {
      "cell_type": "markdown",
      "metadata": {
        "id": "yvGkBtawkOvP"
      },
      "source": [
        "# 4. Multiple Outputs\r\n",
        "\r\n",
        "In this chapter, you will build neural networks with multiple outputs, which can be used to solve regression problems with multiple targets. You will also build a model that solves a regression problem and a classification problem simultaneously. "
      ]
    },
    {
      "cell_type": "code",
      "metadata": {
        "id": "uleyIrpYlQZM"
      },
      "source": [
        ""
      ],
      "execution_count": null,
      "outputs": []
    },
    {
      "cell_type": "code",
      "metadata": {
        "id": "zn4sYOPtlQWe"
      },
      "source": [
        ""
      ],
      "execution_count": null,
      "outputs": []
    },
    {
      "cell_type": "code",
      "metadata": {
        "id": "kwiQ-_HWlQUC"
      },
      "source": [
        ""
      ],
      "execution_count": null,
      "outputs": []
    },
    {
      "cell_type": "markdown",
      "metadata": {
        "id": "geyPGIWtkpMZ"
      },
      "source": [
        "# Datasets\r\n",
        "1. [Basketball data](https://assets.datacamp.com/production/repositories/2189/datasets/78cfc4f848041e10a64e72a9cd4f0a8e6f80ab21/basketball_data.zip)\r\n",
        "2. [Basketball models](https://assets.datacamp.com/production/repositories/2189/datasets/87408a711961f0d640f7c31faa9cfbf8248e6a23/basketball_models.zip)"
      ]
    }
  ]
}